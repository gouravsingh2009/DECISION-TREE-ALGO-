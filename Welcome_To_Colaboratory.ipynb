{
  "cells": [
    {
      "cell_type": "markdown",
      "metadata": {
        "id": "view-in-github",
        "colab_type": "text"
      },
      "source": [
        "<a href=\"https://colab.research.google.com/github/gouravsingh2009/DECISION-TREE-ALGO-/blob/main/Welcome_To_Colaboratory.ipynb\" target=\"_parent\"><img src=\"https://colab.research.google.com/assets/colab-badge.svg\" alt=\"Open In Colab\"/></a>"
      ]
    },
    {
      "cell_type": "code",
      "source": [
        "pip install numpy\n",
        "import numpy as np \n",
        "from numpy import *"
      ],
      "metadata": {
        "id": "4La3yWDLM3Yd",
        "outputId": "e6746d5c-a703-46ff-d622-1b2e930ed29b",
        "colab": {
          "base_uri": "https://localhost:8080/"
        }
      },
      "execution_count": null,
      "outputs": [
        {
          "output_type": "stream",
          "name": "stdout",
          "text": [
            "Looking in indexes: https://pypi.org/simple, https://us-python.pkg.dev/colab-wheels/public/simple/\n",
            "Requirement already satisfied: numpy in /usr/local/lib/python3.8/dist-packages (1.21.6)\n"
          ]
        }
      ]
    },
    {
      "cell_type": "code",
      "source": [
        "a = array([1,2,3,4,5])\n",
        "print(a)"
      ],
      "metadata": {
        "id": "MhiYm966NPQh",
        "outputId": "a778406c-989d-41c7-cec2-cb6062dd99c8",
        "colab": {
          "base_uri": "https://localhost:8080/"
        }
      },
      "execution_count": null,
      "outputs": [
        {
          "output_type": "stream",
          "name": "stdout",
          "text": [
            "[1 2 3 4 5]\n"
          ]
        }
      ]
    },
    {
      "cell_type": "code",
      "source": [
        "b= array(([1,2,3],[4,5,6]))\n",
        "print(b)"
      ],
      "metadata": {
        "id": "FV4j7HnDOaMZ",
        "outputId": "f87e59d2-ddac-43b8-e462-d3a8e9c774ea",
        "colab": {
          "base_uri": "https://localhost:8080/"
        }
      },
      "execution_count": null,
      "outputs": [
        {
          "output_type": "stream",
          "name": "stdout",
          "text": [
            "[[1 2 3]\n",
            " [4 5 6]]\n"
          ]
        }
      ]
    },
    {
      "cell_type": "code",
      "source": [
        "c =array([[[1,2,3],[1,2]],[[5,7,9],[2,8]]])\n",
        "print(c)"
      ],
      "metadata": {
        "id": "MMYydiQRO9FL",
        "outputId": "18fc88e6-afe0-4f82-d8ef-efeffef907bf",
        "colab": {
          "base_uri": "https://localhost:8080/"
        }
      },
      "execution_count": null,
      "outputs": [
        {
          "output_type": "stream",
          "name": "stderr",
          "text": [
            "<ipython-input-22-db9bedc6d192>:1: VisibleDeprecationWarning: Creating an ndarray from ragged nested sequences (which is a list-or-tuple of lists-or-tuples-or ndarrays with different lengths or shapes) is deprecated. If you meant to do this, you must specify 'dtype=object' when creating the ndarray.\n",
            "  c =array([[[1,2,3],[1,2]],[[5,7,9],[2,8]]])\n"
          ]
        }
      ]
    },
    {
      "cell_type": "markdown",
      "source": [
        "Check Number of Dimensions "
      ],
      "metadata": {
        "id": "38IB8VA9gS1n"
      }
    },
    {
      "cell_type": "code",
      "source": [
        "a = array(42)\n",
        "b = array([1, 2, 3, 4, 5])\n",
        "c = array([[1, 2, 3], [4, 5, 6]])\n",
        "d = array([[[1, 2, 3], [4, 5, 6]], [[1, 2, 3], [4, 5, 6]]])\n",
        "print(a.ndim)\n",
        "print(b.ndim)\n",
        "print(c.ndim)\n",
        "print(d.ndim)\n"
      ],
      "metadata": {
        "id": "wNvvIpregVOp",
        "outputId": "41e8a06f-511f-45bf-aaea-dc913aa1f7fa",
        "colab": {
          "base_uri": "https://localhost:8080/"
        }
      },
      "execution_count": null,
      "outputs": [
        {
          "output_type": "stream",
          "name": "stdout",
          "text": [
            "0\n",
            "1\n",
            "2\n",
            "3\n"
          ]
        }
      ]
    },
    {
      "cell_type": "code",
      "source": [
        "arr = array([1, 2, 3, 4], ndmin=2)\n",
        "\n",
        "print(arr)\n",
        "print('number of dimensions :', arr.ndim)"
      ],
      "metadata": {
        "id": "H7WVBO4AhAij",
        "outputId": "822567a7-f60f-4009-9eaf-dbb179390a24",
        "colab": {
          "base_uri": "https://localhost:8080/"
        }
      },
      "execution_count": null,
      "outputs": [
        {
          "output_type": "stream",
          "name": "stdout",
          "text": [
            "[[1 2 3 4]]\n",
            "number of dimensions : 2\n"
          ]
        }
      ]
    },
    {
      "cell_type": "code",
      "source": [
        "print(d[0])\n",
        "print(b[0])\n",
        "print(c[1])"
      ],
      "metadata": {
        "id": "Gm1-nqkThXtt",
        "outputId": "790ca729-8c64-4c5a-8d02-4f9198679d00",
        "colab": {
          "base_uri": "https://localhost:8080/"
        }
      },
      "execution_count": null,
      "outputs": [
        {
          "output_type": "stream",
          "name": "stdout",
          "text": [
            "[[1 2 3]\n",
            " [4 5 6]]\n",
            "1\n",
            "[4 5 6]\n"
          ]
        }
      ]
    },
    {
      "cell_type": "markdown",
      "source": [
        "Access elements in a multidimensional array "
      ],
      "metadata": {
        "id": "dEGL0ridovwo"
      }
    },
    {
      "cell_type": "code",
      "source": [
        "print(d[0,1])"
      ],
      "metadata": {
        "id": "8ACfViF6o1EA",
        "outputId": "d3c18011-d2a8-419b-cdb9-e696658de82c",
        "colab": {
          "base_uri": "https://localhost:8080/"
        }
      },
      "execution_count": null,
      "outputs": [
        {
          "output_type": "stream",
          "name": "stdout",
          "text": [
            "[4 5 6]\n"
          ]
        }
      ]
    },
    {
      "cell_type": "code",
      "source": [
        "arr = array([[1,2,3,4,5], [6,7,8,9,10]])\n",
        "\n",
        "print('5th element on 2nd row: ', arr[1, 4])"
      ],
      "metadata": {
        "id": "_eb2jVMwo4wW",
        "outputId": "58a38e09-fb1d-48fd-89cf-1589b050e6b1",
        "colab": {
          "base_uri": "https://localhost:8080/"
        }
      },
      "execution_count": null,
      "outputs": [
        {
          "output_type": "stream",
          "name": "stdout",
          "text": [
            "5th element on 2nd row:  10\n"
          ]
        }
      ]
    },
    {
      "cell_type": "markdown",
      "source": [
        "NEGATIVE INDEXING ( Using above array ' arr' .)"
      ],
      "metadata": {
        "id": "aTjKM-HtwDFZ"
      }
    },
    {
      "cell_type": "code",
      "source": [
        "print(arr[1,-3])"
      ],
      "metadata": {
        "id": "yt08e3mqv5dg",
        "outputId": "cfa37a42-0e00-44dd-88cb-f8bc02a5eb1f",
        "colab": {
          "base_uri": "https://localhost:8080/"
        }
      },
      "execution_count": null,
      "outputs": [
        {
          "output_type": "stream",
          "name": "stdout",
          "text": [
            "8\n"
          ]
        }
      ]
    },
    {
      "cell_type": "markdown",
      "source": [
        "Slicing arrays\n",
        "Slicing in python means taking elements from one given index to another given index.\n",
        "\n",
        "We pass slice instead of index like this: [start:end].\n",
        "\n",
        "We can also define the step, like this: [start:end:step].\n",
        "\n",
        "If we don't pass start its considered 0\n",
        "\n",
        "If we don't pass end its considered length of array in that dimension\n",
        "\n",
        "If we don't pass step its considered 1"
      ],
      "metadata": {
        "id": "o8vH1K44yKf4"
      }
    },
    {
      "cell_type": "code",
      "source": [],
      "metadata": {
        "id": "SUTeFsEt1_P3"
      },
      "execution_count": null,
      "outputs": []
    },
    {
      "cell_type": "code",
      "source": [
        "d = array([[[1, 2, 3], [4, 5, 6]], [[1, 2, 3], [4, 5, 6]]])\n",
        "print(d[1:])\n",
        "print(d[0:1])\n",
        "print(d[:3])"
      ],
      "metadata": {
        "id": "EkMxbxUbx_fZ",
        "outputId": "bde853b9-1333-41c5-ecc4-9e98e78281e9",
        "colab": {
          "base_uri": "https://localhost:8080/"
        }
      },
      "execution_count": null,
      "outputs": [
        {
          "output_type": "stream",
          "name": "stdout",
          "text": [
            "[[[1 2 3]\n",
            "  [4 5 6]]]\n",
            "[[[1 2 3]\n",
            "  [4 5 6]]]\n",
            "[[[1 2 3]\n",
            "  [4 5 6]]\n",
            "\n",
            " [[1 2 3]\n",
            "  [4 5 6]]]\n"
          ]
        }
      ]
    },
    {
      "cell_type": "code",
      "source": [
        "a= array([1,2,3,4,5,6,7,9])\n",
        "print(a[4:7])\n",
        "print(a[2:])\n",
        "print(a[:5])\n",
        "print(a[2:7:2])\n",
        "print(a[-7:-1:2])\n",
        "print(a[::3])"
      ],
      "metadata": {
        "id": "VicgfBVm2un1",
        "outputId": "19ad18f2-8792-4ea1-e8ae-1bdc7c966655",
        "colab": {
          "base_uri": "https://localhost:8080/"
        }
      },
      "execution_count": null,
      "outputs": [
        {
          "output_type": "stream",
          "name": "stdout",
          "text": [
            "[5 6 7]\n",
            "[3 4 5 6 7 9]\n",
            "[1 2 3 4 5]\n",
            "[3 5 7]\n",
            "[2 4 6]\n",
            "[1 4 7]\n"
          ]
        }
      ]
    },
    {
      "cell_type": "markdown",
      "source": [
        "Slicing in 2 D Arrays "
      ],
      "metadata": {
        "id": "jpf-i9NY4wUc"
      }
    },
    {
      "cell_type": "code",
      "source": [
        "arr = array([[1, 2, 3, 4, 5], [6, 7, 8, 9, 10]])\n",
        "\n",
        "print(arr[0:2, 2])\n",
        "\n",
        "arr = array([[1, 2, 3, 4, 5], [6, 7, 8, 9, 10]])\n",
        "\n",
        "print(arr[0:2, 1:4])"
      ],
      "metadata": {
        "id": "mBK9CTQu4Bfv",
        "outputId": "9d338c68-7db8-42bd-c725-1c39a8097d40",
        "colab": {
          "base_uri": "https://localhost:8080/"
        }
      },
      "execution_count": null,
      "outputs": [
        {
          "output_type": "stream",
          "name": "stdout",
          "text": [
            "[3 8]\n",
            "[[2 3 4]\n",
            " [7 8 9]]\n"
          ]
        }
      ]
    },
    {
      "cell_type": "markdown",
      "source": [
        "Methods for NUMPYS"
      ],
      "metadata": {
        "id": "jDDITLeasZs2"
      }
    },
    {
      "cell_type": "code",
      "source": [
        "import numpy as np\n",
        "\n",
        "arr_zeros= np.zeros(3)\n",
        "arr_zeros\n"
      ],
      "metadata": {
        "id": "lAhAWnHiY_eQ",
        "outputId": "3a3e3741-a2f4-4c4a-dbb4-5a9dc3b96fa6",
        "colab": {
          "base_uri": "https://localhost:8080/"
        }
      },
      "execution_count": 2,
      "outputs": [
        {
          "output_type": "execute_result",
          "data": {
            "text/plain": [
              "array([0., 0., 0.])"
            ]
          },
          "metadata": {},
          "execution_count": 2
        }
      ]
    },
    {
      "cell_type": "code",
      "source": [
        "arr_ones= np.ones([3,3])\n",
        "arr_ones"
      ],
      "metadata": {
        "id": "5bdtq8ztF4xi",
        "outputId": "0a6e1eb4-ba9a-49fc-e1c5-7e9cf891a0de",
        "colab": {
          "base_uri": "https://localhost:8080/"
        }
      },
      "execution_count": null,
      "outputs": [
        {
          "output_type": "execute_result",
          "data": {
            "text/plain": [
              "array([[1., 1., 1.],\n",
              "       [1., 1., 1.],\n",
              "       [1., 1., 1.]])"
            ]
          },
          "metadata": {},
          "execution_count": 11
        }
      ]
    },
    {
      "cell_type": "code",
      "source": [
        "arr_empty= np.empty((2,2))\n",
        "arr_empty"
      ],
      "metadata": {
        "id": "2VwU-uJNF9OJ",
        "outputId": "613c9967-a530-4af7-a76e-a64b4a81d271",
        "colab": {
          "base_uri": "https://localhost:8080/"
        }
      },
      "execution_count": 3,
      "outputs": [
        {
          "output_type": "execute_result",
          "data": {
            "text/plain": [
              "array([[5.e-324, 5.e-324],\n",
              "       [5.e-324, 0.e+000]])"
            ]
          },
          "metadata": {},
          "execution_count": 3
        }
      ]
    },
    {
      "cell_type": "code",
      "source": [
        "new_arr= np.arange(10)\n",
        "print(new_arr)"
      ],
      "metadata": {
        "id": "BFxOrSUmGD5N",
        "outputId": "494890ca-9d0a-4a23-9c4d-d2c40750b7c3",
        "colab": {
          "base_uri": "https://localhost:8080/"
        }
      },
      "execution_count": null,
      "outputs": [
        {
          "output_type": "stream",
          "name": "stdout",
          "text": [
            "[0 1 2 3 4 5 6 7 8 9]\n"
          ]
        }
      ]
    },
    {
      "cell_type": "markdown",
      "source": [
        "Linspace for equally spaced elements"
      ],
      "metadata": {
        "id": "S4rejhy6GeDp"
      }
    },
    {
      "cell_type": "code",
      "source": [
        "np_linspce = np.linspace(1,5,8)\n",
        "np_linspce"
      ],
      "metadata": {
        "id": "8Bz04FFLGb5p",
        "colab": {
          "base_uri": "https://localhost:8080/"
        },
        "outputId": "cb8c7c5b-227e-4ae8-f4c3-a61bcc4f7a66"
      },
      "execution_count": 6,
      "outputs": [
        {
          "output_type": "execute_result",
          "data": {
            "text/plain": [
              "array([1.        , 1.57142857, 2.14285714, 2.71428571, 3.28571429,\n",
              "       3.85714286, 4.42857143, 5.        ])"
            ]
          },
          "metadata": {},
          "execution_count": 6
        }
      ]
    },
    {
      "cell_type": "code",
      "source": [
        "r= np.arange(16)\n",
        "r"
      ],
      "metadata": {
        "colab": {
          "base_uri": "https://localhost:8080/"
        },
        "id": "1Z8TSjlvs8aD",
        "outputId": "9d8e7302-afe8-4ea2-e481-31e001365754"
      },
      "execution_count": 7,
      "outputs": [
        {
          "output_type": "execute_result",
          "data": {
            "text/plain": [
              "array([ 0,  1,  2,  3,  4,  5,  6,  7,  8,  9, 10, 11, 12, 13, 14, 15])"
            ]
          },
          "metadata": {},
          "execution_count": 7
        }
      ]
    },
    {
      "cell_type": "code",
      "source": [
        "print(r.reshape(4,4))"
      ],
      "metadata": {
        "colab": {
          "base_uri": "https://localhost:8080/"
        },
        "id": "UXitzC4wtKEh",
        "outputId": "47a8ba33-5da2-46ae-a6d4-d90ed83a8f1a"
      },
      "execution_count": 10,
      "outputs": [
        {
          "output_type": "stream",
          "name": "stdout",
          "text": [
            "[[ 0  1  2  3]\n",
            " [ 4  5  6  7]\n",
            " [ 8  9 10 11]\n",
            " [12 13 14 15]]\n"
          ]
        }
      ]
    },
    {
      "cell_type": "code",
      "source": [
        "print(r.reshape(2,2,4))"
      ],
      "metadata": {
        "colab": {
          "base_uri": "https://localhost:8080/"
        },
        "id": "-d7YIB_OtYFZ",
        "outputId": "05da5774-243e-423d-bc00-b035957b4f80"
      },
      "execution_count": 11,
      "outputs": [
        {
          "output_type": "stream",
          "name": "stdout",
          "text": [
            "[[[ 0  1  2  3]\n",
            "  [ 4  5  6  7]]\n",
            "\n",
            " [[ 8  9 10 11]\n",
            "  [12 13 14 15]]]\n"
          ]
        }
      ]
    },
    {
      "cell_type": "code",
      "source": [
        " "
      ],
      "metadata": {
        "colab": {
          "base_uri": "https://localhost:8080/",
          "height": 270
        },
        "id": "bhbjThsftiHU",
        "outputId": "70bb5350-131c-4a38-9910-4573d56b5181"
      },
      "execution_count": 15,
      "outputs": [
        {
          "name": "stdout",
          "output_type": "stream",
          "text": [
            "3\n",
            "23\n",
            "45\n",
            "67\n"
          ]
        },
        {
          "output_type": "error",
          "ename": "TypeError",
          "evalue": "ignored",
          "traceback": [
            "\u001b[0;31m---------------------------------------------------------------------------\u001b[0m",
            "\u001b[0;31mTypeError\u001b[0m                                 Traceback (most recent call last)",
            "\u001b[0;32m<ipython-input-15-966c2641fee3>\u001b[0m in \u001b[0;36m<module>\u001b[0;34m\u001b[0m\n\u001b[1;32m      6\u001b[0m         \u001b[0mls\u001b[0m\u001b[0;34m.\u001b[0m\u001b[0mappend\u001b[0m\u001b[0;34m(\u001b[0m\u001b[0ma\u001b[0m\u001b[0;34m)\u001b[0m\u001b[0;34m\u001b[0m\u001b[0;34m\u001b[0m\u001b[0m\n\u001b[1;32m      7\u001b[0m     \u001b[0;32mfor\u001b[0m \u001b[0mi\u001b[0m \u001b[0;32min\u001b[0m \u001b[0mls\u001b[0m\u001b[0;34m:\u001b[0m\u001b[0;34m\u001b[0m\u001b[0;34m\u001b[0m\u001b[0m\n\u001b[0;32m----> 8\u001b[0;31m       \u001b[0mprint\u001b[0m\u001b[0;34m(\u001b[0m\u001b[0mls\u001b[0m\u001b[0;34m[\u001b[0m\u001b[0mi\u001b[0m\u001b[0;34m]\u001b[0m\u001b[0;34m)\u001b[0m\u001b[0;34m\u001b[0m\u001b[0;34m\u001b[0m\u001b[0m\n\u001b[0m",
            "\u001b[0;31mTypeError\u001b[0m: list indices must be integers or slices, not str"
          ]
        }
      ]
    }
  ],
  "metadata": {
    "colab": {
      "name": "Welcome To Colaboratory",
      "toc_visible": true,
      "provenance": [],
      "include_colab_link": true
    },
    "kernelspec": {
      "display_name": "Python 3",
      "name": "python3"
    }
  },
  "nbformat": 4,
  "nbformat_minor": 0
}