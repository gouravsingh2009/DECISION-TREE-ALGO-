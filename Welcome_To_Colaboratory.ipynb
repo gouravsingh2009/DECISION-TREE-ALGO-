{
  "cells": [
    {
      "cell_type": "markdown",
      "metadata": {
        "id": "view-in-github",
        "colab_type": "text"
      },
      "source": [
        "<a href=\"https://colab.research.google.com/github/gouravsingh2009/DECISION-TREE-ALGO-/blob/main/Welcome_To_Colaboratory.ipynb\" target=\"_parent\"><img src=\"https://colab.research.google.com/assets/colab-badge.svg\" alt=\"Open In Colab\"/></a>"
      ]
    },
    {
      "cell_type": "code",
      "source": [
        "pip install numpy\n",
        "import numpy as np \n",
        "from numpy import *"
      ],
      "metadata": {
        "id": "4La3yWDLM3Yd",
        "outputId": "e6746d5c-a703-46ff-d622-1b2e930ed29b",
        "colab": {
          "base_uri": "https://localhost:8080/"
        }
      },
      "execution_count": 10,
      "outputs": [
        {
          "output_type": "stream",
          "name": "stdout",
          "text": [
            "Looking in indexes: https://pypi.org/simple, https://us-python.pkg.dev/colab-wheels/public/simple/\n",
            "Requirement already satisfied: numpy in /usr/local/lib/python3.8/dist-packages (1.21.6)\n"
          ]
        }
      ]
    },
    {
      "cell_type": "code",
      "source": [
        "a = array([1,2,3,4,5])\n",
        "print(a)"
      ],
      "metadata": {
        "id": "MhiYm966NPQh",
        "outputId": "a778406c-989d-41c7-cec2-cb6062dd99c8",
        "colab": {
          "base_uri": "https://localhost:8080/"
        }
      },
      "execution_count": 13,
      "outputs": [
        {
          "output_type": "stream",
          "name": "stdout",
          "text": [
            "[1 2 3 4 5]\n"
          ]
        }
      ]
    },
    {
      "cell_type": "code",
      "source": [
        "b= array(([1,2,3],[4,5,6]))\n",
        "print(b)"
      ],
      "metadata": {
        "id": "FV4j7HnDOaMZ",
        "outputId": "f87e59d2-ddac-43b8-e462-d3a8e9c774ea",
        "colab": {
          "base_uri": "https://localhost:8080/"
        }
      },
      "execution_count": 17,
      "outputs": [
        {
          "output_type": "stream",
          "name": "stdout",
          "text": [
            "[[1 2 3]\n",
            " [4 5 6]]\n"
          ]
        }
      ]
    },
    {
      "cell_type": "code",
      "source": [
        "c =array([[[1,2,3],[1,2]],[[5,7,9],[2,8]]])\n",
        "print(c)"
      ],
      "metadata": {
        "id": "MMYydiQRO9FL",
        "outputId": "18fc88e6-afe0-4f82-d8ef-efeffef907bf",
        "colab": {
          "base_uri": "https://localhost:8080/"
        }
      },
      "execution_count": 22,
      "outputs": [
        {
          "output_type": "stream",
          "name": "stderr",
          "text": [
            "<ipython-input-22-db9bedc6d192>:1: VisibleDeprecationWarning: Creating an ndarray from ragged nested sequences (which is a list-or-tuple of lists-or-tuples-or ndarrays with different lengths or shapes) is deprecated. If you meant to do this, you must specify 'dtype=object' when creating the ndarray.\n",
            "  c =array([[[1,2,3],[1,2]],[[5,7,9],[2,8]]])\n"
          ]
        }
      ]
    },
    {
      "cell_type": "markdown",
      "source": [
        "Check Number of Dimensions "
      ],
      "metadata": {
        "id": "38IB8VA9gS1n"
      }
    },
    {
      "cell_type": "code",
      "source": [
        "a = array(42)\n",
        "b = array([1, 2, 3, 4, 5])\n",
        "c = array([[1, 2, 3], [4, 5, 6]])\n",
        "d = array([[[1, 2, 3], [4, 5, 6]], [[1, 2, 3], [4, 5, 6]]])\n",
        "print(a.ndim)\n",
        "print(b.ndim)\n",
        "print(c.ndim)\n",
        "print(d.ndim)\n"
      ],
      "metadata": {
        "id": "wNvvIpregVOp",
        "outputId": "41e8a06f-511f-45bf-aaea-dc913aa1f7fa",
        "colab": {
          "base_uri": "https://localhost:8080/"
        }
      },
      "execution_count": 37,
      "outputs": [
        {
          "output_type": "stream",
          "name": "stdout",
          "text": [
            "0\n",
            "1\n",
            "2\n",
            "3\n"
          ]
        }
      ]
    },
    {
      "cell_type": "code",
      "source": [
        "arr = array([1, 2, 3, 4], ndmin=2)\n",
        "\n",
        "print(arr)\n",
        "print('number of dimensions :', arr.ndim)"
      ],
      "metadata": {
        "id": "H7WVBO4AhAij",
        "outputId": "822567a7-f60f-4009-9eaf-dbb179390a24",
        "colab": {
          "base_uri": "https://localhost:8080/"
        }
      },
      "execution_count": 40,
      "outputs": [
        {
          "output_type": "stream",
          "name": "stdout",
          "text": [
            "[[1 2 3 4]]\n",
            "number of dimensions : 2\n"
          ]
        }
      ]
    },
    {
      "cell_type": "code",
      "source": [
        "print(d[0])\n",
        "print(b[0])\n",
        "print(c[1])"
      ],
      "metadata": {
        "id": "Gm1-nqkThXtt",
        "outputId": "790ca729-8c64-4c5a-8d02-4f9198679d00",
        "colab": {
          "base_uri": "https://localhost:8080/"
        }
      },
      "execution_count": 47,
      "outputs": [
        {
          "output_type": "stream",
          "name": "stdout",
          "text": [
            "[[1 2 3]\n",
            " [4 5 6]]\n",
            "1\n",
            "[4 5 6]\n"
          ]
        }
      ]
    },
    {
      "cell_type": "markdown",
      "source": [
        "Access elements in a multidimensional array "
      ],
      "metadata": {
        "id": "dEGL0ridovwo"
      }
    },
    {
      "cell_type": "code",
      "source": [
        "print(d[0,1])"
      ],
      "metadata": {
        "id": "8ACfViF6o1EA",
        "outputId": "d3c18011-d2a8-419b-cdb9-e696658de82c",
        "colab": {
          "base_uri": "https://localhost:8080/"
        }
      },
      "execution_count": 48,
      "outputs": [
        {
          "output_type": "stream",
          "name": "stdout",
          "text": [
            "[4 5 6]\n"
          ]
        }
      ]
    },
    {
      "cell_type": "code",
      "source": [
        "arr = array([[1,2,3,4,5], [6,7,8,9,10]])\n",
        "\n",
        "print('5th element on 2nd row: ', arr[1, 4])"
      ],
      "metadata": {
        "id": "_eb2jVMwo4wW",
        "outputId": "58a38e09-fb1d-48fd-89cf-1589b050e6b1",
        "colab": {
          "base_uri": "https://localhost:8080/"
        }
      },
      "execution_count": 50,
      "outputs": [
        {
          "output_type": "stream",
          "name": "stdout",
          "text": [
            "5th element on 2nd row:  10\n"
          ]
        }
      ]
    },
    {
      "cell_type": "markdown",
      "source": [
        "NEGATIVE INDEXING ( Using above array ' arr' .)"
      ],
      "metadata": {
        "id": "aTjKM-HtwDFZ"
      }
    },
    {
      "cell_type": "code",
      "source": [
        "print(arr[1,-3])"
      ],
      "metadata": {
        "id": "yt08e3mqv5dg",
        "outputId": "cfa37a42-0e00-44dd-88cb-f8bc02a5eb1f",
        "colab": {
          "base_uri": "https://localhost:8080/"
        }
      },
      "execution_count": 51,
      "outputs": [
        {
          "output_type": "stream",
          "name": "stdout",
          "text": [
            "8\n"
          ]
        }
      ]
    },
    {
      "cell_type": "markdown",
      "source": [
        "Slicing arrays\n",
        "Slicing in python means taking elements from one given index to another given index.\n",
        "\n",
        "We pass slice instead of index like this: [start:end].\n",
        "\n",
        "We can also define the step, like this: [start:end:step].\n",
        "\n",
        "If we don't pass start its considered 0\n",
        "\n",
        "If we don't pass end its considered length of array in that dimension\n",
        "\n",
        "If we don't pass step its considered 1"
      ],
      "metadata": {
        "id": "o8vH1K44yKf4"
      }
    },
    {
      "cell_type": "code",
      "source": [],
      "metadata": {
        "id": "SUTeFsEt1_P3"
      },
      "execution_count": null,
      "outputs": []
    },
    {
      "cell_type": "code",
      "source": [
        "d = array([[[1, 2, 3], [4, 5, 6]], [[1, 2, 3], [4, 5, 6]]])\n",
        "print(d[1:])\n",
        "print(d[0:1])\n",
        "print(d[:3])"
      ],
      "metadata": {
        "id": "EkMxbxUbx_fZ",
        "outputId": "bde853b9-1333-41c5-ecc4-9e98e78281e9",
        "colab": {
          "base_uri": "https://localhost:8080/"
        }
      },
      "execution_count": 58,
      "outputs": [
        {
          "output_type": "stream",
          "name": "stdout",
          "text": [
            "[[[1 2 3]\n",
            "  [4 5 6]]]\n",
            "[[[1 2 3]\n",
            "  [4 5 6]]]\n",
            "[[[1 2 3]\n",
            "  [4 5 6]]\n",
            "\n",
            " [[1 2 3]\n",
            "  [4 5 6]]]\n"
          ]
        }
      ]
    },
    {
      "cell_type": "code",
      "source": [
        "a= array([1,2,3,4,5,6,7,9])\n",
        "print(a[4:7])\n",
        "print(a[2:])\n",
        "print(a[:5])\n",
        "print(a[2:7:2])\n",
        "print(a[-7:-1:2])\n",
        "print(a[::3])"
      ],
      "metadata": {
        "id": "VicgfBVm2un1",
        "outputId": "19ad18f2-8792-4ea1-e8ae-1bdc7c966655",
        "colab": {
          "base_uri": "https://localhost:8080/"
        }
      },
      "execution_count": 73,
      "outputs": [
        {
          "output_type": "stream",
          "name": "stdout",
          "text": [
            "[5 6 7]\n",
            "[3 4 5 6 7 9]\n",
            "[1 2 3 4 5]\n",
            "[3 5 7]\n",
            "[2 4 6]\n",
            "[1 4 7]\n"
          ]
        }
      ]
    },
    {
      "cell_type": "markdown",
      "source": [
        "Slicing in 2 D Arrays "
      ],
      "metadata": {
        "id": "jpf-i9NY4wUc"
      }
    },
    {
      "cell_type": "code",
      "source": [
        "arr = array([[1, 2, 3, 4, 5], [6, 7, 8, 9, 10]])\n",
        "\n",
        "print(arr[0:2, 2])\n",
        "\n",
        "arr = array([[1, 2, 3, 4, 5], [6, 7, 8, 9, 10]])\n",
        "\n",
        "print(arr[0:2, 1:4])"
      ],
      "metadata": {
        "id": "mBK9CTQu4Bfv",
        "outputId": "9d338c68-7db8-42bd-c725-1c39a8097d40",
        "colab": {
          "base_uri": "https://localhost:8080/"
        }
      },
      "execution_count": 75,
      "outputs": [
        {
          "output_type": "stream",
          "name": "stdout",
          "text": [
            "[3 8]\n",
            "[[2 3 4]\n",
            " [7 8 9]]\n"
          ]
        }
      ]
    },
    {
      "cell_type": "code",
      "source": [
        "import numpy as np\n",
        "\n",
        "arr_zeros= np.zeros(3)\n",
        "arr_zeros\n"
      ],
      "metadata": {
        "id": "lAhAWnHiY_eQ",
        "outputId": "7d1b34dc-3a73-4f80-84e1-620e80920a56",
        "colab": {
          "base_uri": "https://localhost:8080/"
        }
      },
      "execution_count": 12,
      "outputs": [
        {
          "output_type": "execute_result",
          "data": {
            "text/plain": [
              "array([0., 0., 0.])"
            ]
          },
          "metadata": {},
          "execution_count": 12
        }
      ]
    },
    {
      "cell_type": "code",
      "source": [
        "arr_ones= np.ones([3,3])\n",
        "arr_ones"
      ],
      "metadata": {
        "id": "5bdtq8ztF4xi",
        "outputId": "0a6e1eb4-ba9a-49fc-e1c5-7e9cf891a0de",
        "colab": {
          "base_uri": "https://localhost:8080/"
        }
      },
      "execution_count": 11,
      "outputs": [
        {
          "output_type": "execute_result",
          "data": {
            "text/plain": [
              "array([[1., 1., 1.],\n",
              "       [1., 1., 1.],\n",
              "       [1., 1., 1.]])"
            ]
          },
          "metadata": {},
          "execution_count": 11
        }
      ]
    },
    {
      "cell_type": "code",
      "source": [
        "arr_empty= np.empty(5)\n",
        "arr_empty"
      ],
      "metadata": {
        "id": "2VwU-uJNF9OJ",
        "outputId": "ab7995e7-ccd2-4d95-f067-21b01446cc2c",
        "colab": {
          "base_uri": "https://localhost:8080/"
        }
      },
      "execution_count": 13,
      "outputs": [
        {
          "output_type": "execute_result",
          "data": {
            "text/plain": [
              "array([0.  , 0.25, 0.5 , 0.75, 1.  ])"
            ]
          },
          "metadata": {},
          "execution_count": 13
        }
      ]
    },
    {
      "cell_type": "code",
      "source": [
        "new_arr= np.arange(10)\n",
        "print(new_arr)"
      ],
      "metadata": {
        "id": "BFxOrSUmGD5N",
        "outputId": "494890ca-9d0a-4a23-9c4d-d2c40750b7c3",
        "colab": {
          "base_uri": "https://localhost:8080/"
        }
      },
      "execution_count": 16,
      "outputs": [
        {
          "output_type": "stream",
          "name": "stdout",
          "text": [
            "[0 1 2 3 4 5 6 7 8 9]\n"
          ]
        }
      ]
    },
    {
      "cell_type": "markdown",
      "source": [
        "Shape Manipulations"
      ],
      "metadata": {
        "id": "S4rejhy6GeDp"
      }
    },
    {
      "cell_type": "code",
      "source": [],
      "metadata": {
        "id": "8Bz04FFLGb5p"
      },
      "execution_count": null,
      "outputs": []
    }
  ],
  "metadata": {
    "colab": {
      "name": "Welcome To Colaboratory",
      "toc_visible": true,
      "provenance": [],
      "include_colab_link": true
    },
    "kernelspec": {
      "display_name": "Python 3",
      "name": "python3"
    }
  },
  "nbformat": 4,
  "nbformat_minor": 0
}