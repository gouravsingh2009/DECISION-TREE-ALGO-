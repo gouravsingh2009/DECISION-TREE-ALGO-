{
  "cells": [
    {
      "cell_type": "markdown",
      "metadata": {
        "id": "view-in-github",
        "colab_type": "text"
      },
      "source": [
        "<a href=\"https://colab.research.google.com/github/gouravsingh2009/DECISION-TREE-ALGO-/blob/main/Welcome_To_Colaboratory.ipynb\" target=\"_parent\"><img src=\"https://colab.research.google.com/assets/colab-badge.svg\" alt=\"Open In Colab\"/></a>"
      ]
    },
    {
      "cell_type": "code",
      "source": [
        "import numpy as np\n",
        "import pandas as pd "
      ],
      "metadata": {
        "id": "2XP90TwokCL-"
      },
      "execution_count": 1,
      "outputs": []
    },
    {
      "cell_type": "code",
      "source": [
        "url= 'https://raw.githubusercontent.com/gouravsingh2009/DECISION-TREE-ALGO-/main/Auction%202023%20Data.csv'\n",
        "file=pd.read_csv(url)\n",
        "file.describe"
      ],
      "metadata": {
        "id": "bvlxU1WwkF29",
        "outputId": "eecefb67-a054-456e-ed07-f6683b0a6cef",
        "colab": {
          "base_uri": "https://localhost:8080/"
        }
      },
      "execution_count": 7,
      "outputs": [
        {
          "output_type": "execute_result",
          "data": {
            "text/plain": [
              "<bound method NDFrame.describe of      Season               Name Nationality          Type  \\\n",
              "0      2023    Ajinkya Rahane      Indian        Batter    \n",
              "1      2023     Bhagath Varma      Indian   All-Rounder    \n",
              "2      2023     Kyle Jamieson    Overseas        Bowler    \n",
              "3      2023       Ajay Mandal      Indian   All-Rounder    \n",
              "4      2023    Nishant Sindhu      Indian   All-Rounder    \n",
              "..      ...                ...         ...           ...   \n",
              "279    2022  Fazalhaq Farooqi    Overseas        Bowler    \n",
              "280    2022       Sean Abbott    Overseas        Bowler    \n",
              "281    2022         R Samarth      Indian       Batsman    \n",
              "282    2022    Shashank Singh      Indian   All-Rounder    \n",
              "283    2022     Saurabh Dubey      Indian        Bowler    \n",
              "\n",
              "                     Team         Price  \n",
              "0     Chennai Super Kings    50,00,000   \n",
              "1     Chennai Super Kings    20,00,000   \n",
              "2     Chennai Super Kings  1,00,00,000   \n",
              "3     Chennai Super Kings    20,00,000   \n",
              "4     Chennai Super Kings    60,00,000   \n",
              "..                    ...           ...  \n",
              "279   Sunrisers Hyderabad    50,00,000   \n",
              "280   Sunrisers Hyderabad  2,40,00,000   \n",
              "281   Sunrisers Hyderabad    20,00,000   \n",
              "282   Sunrisers Hyderabad    20,00,000   \n",
              "283   Sunrisers Hyderabad    20,00,000   \n",
              "\n",
              "[284 rows x 6 columns]>"
            ]
          },
          "metadata": {},
          "execution_count": 7
        }
      ]
    },
    {
      "cell_type": "code",
      "source": [
        "file.head"
      ],
      "metadata": {
        "id": "OW2qaVROov4s",
        "outputId": "56ca7e94-aae3-4635-e470-3d726170380e",
        "colab": {
          "base_uri": "https://localhost:8080/"
        }
      },
      "execution_count": 8,
      "outputs": [
        {
          "output_type": "execute_result",
          "data": {
            "text/plain": [
              "<bound method NDFrame.head of      Season               Name Nationality          Type  \\\n",
              "0      2023    Ajinkya Rahane      Indian        Batter    \n",
              "1      2023     Bhagath Varma      Indian   All-Rounder    \n",
              "2      2023     Kyle Jamieson    Overseas        Bowler    \n",
              "3      2023       Ajay Mandal      Indian   All-Rounder    \n",
              "4      2023    Nishant Sindhu      Indian   All-Rounder    \n",
              "..      ...                ...         ...           ...   \n",
              "279    2022  Fazalhaq Farooqi    Overseas        Bowler    \n",
              "280    2022       Sean Abbott    Overseas        Bowler    \n",
              "281    2022         R Samarth      Indian       Batsman    \n",
              "282    2022    Shashank Singh      Indian   All-Rounder    \n",
              "283    2022     Saurabh Dubey      Indian        Bowler    \n",
              "\n",
              "                     Team         Price  \n",
              "0     Chennai Super Kings    50,00,000   \n",
              "1     Chennai Super Kings    20,00,000   \n",
              "2     Chennai Super Kings  1,00,00,000   \n",
              "3     Chennai Super Kings    20,00,000   \n",
              "4     Chennai Super Kings    60,00,000   \n",
              "..                    ...           ...  \n",
              "279   Sunrisers Hyderabad    50,00,000   \n",
              "280   Sunrisers Hyderabad  2,40,00,000   \n",
              "281   Sunrisers Hyderabad    20,00,000   \n",
              "282   Sunrisers Hyderabad    20,00,000   \n",
              "283   Sunrisers Hyderabad    20,00,000   \n",
              "\n",
              "[284 rows x 6 columns]>"
            ]
          },
          "metadata": {},
          "execution_count": 8
        }
      ]
    },
    {
      "cell_type": "code",
      "source": [
        "file.shape"
      ],
      "metadata": {
        "id": "goho_Nt_pImj",
        "outputId": "630a0758-bad8-44a3-b327-499e7de88a9c",
        "colab": {
          "base_uri": "https://localhost:8080/"
        }
      },
      "execution_count": 9,
      "outputs": [
        {
          "output_type": "execute_result",
          "data": {
            "text/plain": [
              "(284, 6)"
            ]
          },
          "metadata": {},
          "execution_count": 9
        }
      ]
    },
    {
      "cell_type": "code",
      "source": [
        "file['Price'].fillna(value='No')"
      ],
      "metadata": {
        "id": "gdlmdAu-tIs-",
        "outputId": "85972103-6711-44e8-ade1-9ba8d2880075",
        "colab": {
          "base_uri": "https://localhost:8080/"
        }
      },
      "execution_count": 11,
      "outputs": [
        {
          "output_type": "execute_result",
          "data": {
            "text/plain": [
              "0        50,00,000 \n",
              "1        20,00,000 \n",
              "2      1,00,00,000 \n",
              "3        20,00,000 \n",
              "4        60,00,000 \n",
              "           ...     \n",
              "279      50,00,000 \n",
              "280    2,40,00,000 \n",
              "281      20,00,000 \n",
              "282      20,00,000 \n",
              "283      20,00,000 \n",
              "Name: Price, Length: 284, dtype: object"
            ]
          },
          "metadata": {},
          "execution_count": 11
        }
      ]
    },
    {
      "cell_type": "code",
      "source": [
        "file['Price'].dropna"
      ],
      "metadata": {
        "id": "BCD3AQXiuZPp"
      },
      "execution_count": null,
      "outputs": []
    },
    {
      "cell_type": "markdown",
      "source": [
        "group by , drop values , fillNA"
      ],
      "metadata": {
        "id": "XhDdCRR5uvQD"
      }
    },
    {
      "cell_type": "markdown",
      "source": [],
      "metadata": {
        "id": "w2c_esDUvHvO"
      }
    },
    {
      "cell_type": "code",
      "source": [
        "file.groupby('Price')\n",
        "file.describe"
      ],
      "metadata": {
        "id": "qg6mOVPBvJTe",
        "outputId": "e843f8b7-7ca4-4c1e-c9b7-843e8f7c4ae0",
        "colab": {
          "base_uri": "https://localhost:8080/"
        }
      },
      "execution_count": 13,
      "outputs": [
        {
          "output_type": "execute_result",
          "data": {
            "text/plain": [
              "<bound method NDFrame.describe of      Season               Name Nationality          Type  \\\n",
              "0      2023    Ajinkya Rahane      Indian        Batter    \n",
              "1      2023     Bhagath Varma      Indian   All-Rounder    \n",
              "2      2023     Kyle Jamieson    Overseas        Bowler    \n",
              "3      2023       Ajay Mandal      Indian   All-Rounder    \n",
              "4      2023    Nishant Sindhu      Indian   All-Rounder    \n",
              "..      ...                ...         ...           ...   \n",
              "279    2022  Fazalhaq Farooqi    Overseas        Bowler    \n",
              "280    2022       Sean Abbott    Overseas        Bowler    \n",
              "281    2022         R Samarth      Indian       Batsman    \n",
              "282    2022    Shashank Singh      Indian   All-Rounder    \n",
              "283    2022     Saurabh Dubey      Indian        Bowler    \n",
              "\n",
              "                     Team         Price  \n",
              "0     Chennai Super Kings    50,00,000   \n",
              "1     Chennai Super Kings    20,00,000   \n",
              "2     Chennai Super Kings  1,00,00,000   \n",
              "3     Chennai Super Kings    20,00,000   \n",
              "4     Chennai Super Kings    60,00,000   \n",
              "..                    ...           ...  \n",
              "279   Sunrisers Hyderabad    50,00,000   \n",
              "280   Sunrisers Hyderabad  2,40,00,000   \n",
              "281   Sunrisers Hyderabad    20,00,000   \n",
              "282   Sunrisers Hyderabad    20,00,000   \n",
              "283   Sunrisers Hyderabad    20,00,000   \n",
              "\n",
              "[284 rows x 6 columns]>"
            ]
          },
          "metadata": {},
          "execution_count": 13
        }
      ]
    },
    {
      "cell_type": "code",
      "source": [
        "a=file.get_group('')"
      ],
      "metadata": {
        "id": "xuk-ITzRuyi8"
      },
      "execution_count": null,
      "outputs": []
    },
    {
      "cell_type": "code",
      "source": [
        "file.index"
      ],
      "metadata": {
        "id": "w-VV2E8avo9M",
        "outputId": "938e1714-e0e6-4993-f701-09f09ecfdefd",
        "colab": {
          "base_uri": "https://localhost:8080/"
        }
      },
      "execution_count": 14,
      "outputs": [
        {
          "output_type": "execute_result",
          "data": {
            "text/plain": [
              "RangeIndex(start=0, stop=284, step=1)"
            ]
          },
          "metadata": {},
          "execution_count": 14
        }
      ]
    }
  ],
  "metadata": {
    "colab": {
      "name": "Welcome To Colaboratory",
      "toc_visible": true,
      "provenance": [],
      "include_colab_link": true
    },
    "kernelspec": {
      "display_name": "Python 3",
      "name": "python3"
    }
  },
  "nbformat": 4,
  "nbformat_minor": 0
}